{
 "cells": [
  {
   "cell_type": "markdown",
   "metadata": {},
   "source": [
    "# Elastic Search"
   ]
  },
  {
   "cell_type": "markdown",
   "metadata": {},
   "source": [
    "There are different ways to interact with Elastic Search:\n",
    "\n",
    "- cURL\n",
    "- Requests\n",
    "- The `elasticsearch` package/library"
   ]
  },
  {
   "cell_type": "markdown",
   "metadata": {},
   "source": [
    "## Requests"
   ]
  },
  {
   "cell_type": "code",
   "execution_count": 3,
   "metadata": {},
   "outputs": [],
   "source": [
    "import os\n",
    "import requests\n",
    "from requests.auth import HTTPBasicAuth\n",
    "from dotenv import load_dotenv\n",
    "load_dotenv()\n",
    "\n",
    "elastic_user = os.getenv(\"ELASTIC_USER\")\n",
    "elastic_password = os.getenv(\"ELASIC_PASSWORD\")"
   ]
  },
  {
   "cell_type": "markdown",
   "metadata": {},
   "source": [
    "```powershell\n",
    "# Example: GET /_cat/nodes?v -> get all nodes\n",
    "curl.exe --cacert config\\certs\\http_ca.crt -u \"$($Env:ELASTIC_USER):$($Env:ELASTIC_PASSWORD)\" --insecure -X GET \"https://localhost:9200/_cat/nodes?v\"\n",
    "```"
   ]
  },
  {
   "cell_type": "code",
   "execution_count": 19,
   "metadata": {},
   "outputs": [
    {
     "name": "stdout",
     "output_type": "stream",
     "text": [
      "ip        heap.percent ram.percent cpu load_1m load_5m load_15m node.role   master name\n",
      "127.0.0.1           20          97   3                          cdfhilmrstw *      RDES009A\n",
      "\n"
     ]
    }
   ],
   "source": [
    "# Define the URL\n",
    "url = \"https://localhost:9200/_cat/nodes?v\"\n",
    "\n",
    "# Make the GET request\n",
    "response = requests.get(\n",
    "    url,\n",
    "    auth=HTTPBasicAuth(elastic_user, elastic_password),\n",
    "    #verify=False,  # Disable SSL verification\n",
    "    verify=\"C:\\\\Users\\\\msagardia\\\\packages\\\\elasticsearch-8.14.3\\\\config\\\\certs\\\\http_ca.crt\",\n",
    "    proxies={\"http\": None, \"https\": None}  # Bypass proxy\n",
    ")\n",
    "\n",
    "# Print the response\n",
    "print(response.text)"
   ]
  },
  {
   "cell_type": "markdown",
   "metadata": {},
   "source": [
    "```powershell\n",
    "# Example: GET /_cat/indices?v -> list all indices\n",
    "curl.exe --cacert config\\certs\\http_ca.crt -u \"$($Env:ELASTIC_USER):$($Env:ELASTIC_PASSWORD)\" --insecure -X GET \"https://localhost:9200/_cat/indices?v\"\n",
    "```"
   ]
  },
  {
   "cell_type": "code",
   "execution_count": 20,
   "metadata": {},
   "outputs": [
    {
     "name": "stdout",
     "output_type": "stream",
     "text": [
      "health status index                                                              uuid                   pri rep docs.count docs.deleted store.size pri.store.size dataset.size\n",
      "green  open   .internal.alerts-transform.health.alerts-default-000001            P7VMqfVWRre9OapmMd36rg   1   0          0            0       249b           249b         249b\n",
      "green  open   .internal.alerts-observability.logs.alerts-default-000001          ZGmcHDzuSBaYLTKgLqjwPw   1   0          0            0       249b           249b         249b\n",
      "green  open   .internal.alerts-observability.uptime.alerts-default-000001        G615buOwQhCU_WGl-jmMsQ   1   0          0            0       249b           249b         249b\n",
      "green  open   .internal.alerts-ml.anomaly-detection.alerts-default-000001        JyFHy8-mTuKUzYhcEE7LPA   1   0          0            0       249b           249b         249b\n",
      "green  open   .internal.alerts-observability.slo.alerts-default-000001           yrBABNDUTMmyzhlKS9teNQ   1   0          0            0       249b           249b         249b\n",
      "green  open   .internal.alerts-default.alerts-default-000001                     yKYRifk6S_e1WtNi8_1z3A   1   0          0            0       249b           249b         249b\n",
      "green  open   .internal.alerts-observability.apm.alerts-default-000001           e8W0ONrIS2-rtx-sEOAsYw   1   0          0            0       249b           249b         249b\n",
      "green  open   .internal.alerts-observability.metrics.alerts-default-000001       VcoKAtPpQZmsBIczTDFeTg   1   0          0            0       249b           249b         249b\n",
      "green  open   .kibana-observability-ai-assistant-conversations-000001            78goFpseQMG8btNFlPPnhA   1   0          0            0       249b           249b         249b\n",
      "green  open   .internal.alerts-ml.anomaly-detection-health.alerts-default-000001 tBy4KectR7-EbdxNR8as0w   1   0          0            0       249b           249b         249b\n",
      "green  open   .internal.alerts-observability.threshold.alerts-default-000001     8BEjSwPFQBq1MRFrutD95Q   1   0          0            0       249b           249b         249b\n",
      "green  open   .kibana-observability-ai-assistant-kb-000001                       gmcQwlm7S0yfDzeYgqK7AQ   1   0          0            0       249b           249b         249b\n",
      "green  open   .internal.alerts-security.alerts-default-000001                    1m_Skpn_Q5eODoirIXXCmQ   1   0          0            0       249b           249b         249b\n",
      "green  open   .internal.alerts-stack.alerts-default-000001                       fY9MZgM_RFqEkFhMbk8oWg   1   0          0            0       249b           249b         249b\n",
      "\n"
     ]
    }
   ],
   "source": [
    "# Define the URL\n",
    "url = \"https://localhost:9200/_cat/indices?v\"\n",
    "\n",
    "# Make the GET request\n",
    "response = requests.get(\n",
    "    url,\n",
    "    auth=HTTPBasicAuth(elastic_user, elastic_password),\n",
    "    #verify=False,  # Disable SSL verification\n",
    "    verify=\"C:\\\\Users\\\\msagardia\\\\packages\\\\elasticsearch-8.14.3\\\\config\\\\certs\\\\http_ca.crt\",\n",
    "    proxies={\"http\": None, \"https\": None}  # Bypass proxy\n",
    ")\n",
    "\n",
    "# Print the response\n",
    "print(response.text)"
   ]
  },
  {
   "cell_type": "markdown",
   "metadata": {},
   "source": [
    "## Elastic Search Package"
   ]
  },
  {
   "cell_type": "code",
   "execution_count": 36,
   "metadata": {},
   "outputs": [],
   "source": [
    "import os\n",
    "from dotenv import load_dotenv\n",
    "load_dotenv()\n",
    "\n",
    "elastic_user = os.getenv(\"ELASTIC_USER\")\n",
    "elastic_password = os.getenv(\"ELASIC_PASSWORD\")"
   ]
  },
  {
   "cell_type": "code",
   "execution_count": 37,
   "metadata": {},
   "outputs": [],
   "source": [
    "import warnings\n",
    "from urllib3.exceptions import InsecureRequestWarning\n",
    "\n",
    "# Suppress only the specific InsecureRequestWarning\n",
    "warnings.simplefilter('ignore', InsecureRequestWarning)"
   ]
  },
  {
   "cell_type": "code",
   "execution_count": 38,
   "metadata": {},
   "outputs": [
    {
     "name": "stderr",
     "output_type": "stream",
     "text": [
      "c:\\Users\\A200239740\\AppData\\Local\\anaconda3\\envs\\elastic\\lib\\site-packages\\elasticsearch\\_sync\\client\\__init__.py:399: SecurityWarning: Connecting to 'https://localhost:9200' using TLS with verify_certs=False is insecure\n",
      "  _transport = transport_class(\n"
     ]
    }
   ],
   "source": [
    "from elasticsearch import Elasticsearch\n",
    "\n",
    "# Create an instance of the Elasticsearch client\n",
    "es = Elasticsearch(\n",
    "    ['https://localhost:9200'],\n",
    "    basic_auth=(elastic_user, elastic_password),\n",
    "    verify_certs=False  # This disables SSL verification, similar to --insecure\n",
    ")"
   ]
  },
  {
   "cell_type": "code",
   "execution_count": 40,
   "metadata": {},
   "outputs": [
    {
     "name": "stdout",
     "output_type": "stream",
     "text": [
      "[{'ip': '127.0.0.1', 'heap.percent': '42', 'ram.percent': '97', 'cpu': '3', 'load_1m': None, 'load_5m': None, 'load_15m': None, 'node.role': 'cdfhilmrstw', 'master': '*', 'name': 'RDES009A'}]\n"
     ]
    }
   ],
   "source": [
    "# Make a GET request to /_cat/nodes?v\n",
    "response = es.cat.nodes(format=\"json\")\n",
    "\n",
    "# Print the response\n",
    "print(response)"
   ]
  },
  {
   "cell_type": "code",
   "execution_count": 41,
   "metadata": {},
   "outputs": [
    {
     "name": "stdout",
     "output_type": "stream",
     "text": [
      "[{'health': 'green', 'status': 'open', 'index': '.internal.alerts-transform.health.alerts-default-000001', 'uuid': 'P7VMqfVWRre9OapmMd36rg', 'pri': '1', 'rep': '0', 'docs.count': '0', 'docs.deleted': '0', 'store.size': '249b', 'pri.store.size': '249b', 'dataset.size': '249b'}, {'health': 'green', 'status': 'open', 'index': '.internal.alerts-observability.logs.alerts-default-000001', 'uuid': 'ZGmcHDzuSBaYLTKgLqjwPw', 'pri': '1', 'rep': '0', 'docs.count': '0', 'docs.deleted': '0', 'store.size': '249b', 'pri.store.size': '249b', 'dataset.size': '249b'}, {'health': 'green', 'status': 'open', 'index': '.internal.alerts-observability.uptime.alerts-default-000001', 'uuid': 'G615buOwQhCU_WGl-jmMsQ', 'pri': '1', 'rep': '0', 'docs.count': '0', 'docs.deleted': '0', 'store.size': '249b', 'pri.store.size': '249b', 'dataset.size': '249b'}, {'health': 'green', 'status': 'open', 'index': '.internal.alerts-ml.anomaly-detection.alerts-default-000001', 'uuid': 'JyFHy8-mTuKUzYhcEE7LPA', 'pri': '1', 'rep': '0', 'docs.count': '0', 'docs.deleted': '0', 'store.size': '249b', 'pri.store.size': '249b', 'dataset.size': '249b'}, {'health': 'green', 'status': 'open', 'index': '.internal.alerts-observability.slo.alerts-default-000001', 'uuid': 'yrBABNDUTMmyzhlKS9teNQ', 'pri': '1', 'rep': '0', 'docs.count': '0', 'docs.deleted': '0', 'store.size': '249b', 'pri.store.size': '249b', 'dataset.size': '249b'}, {'health': 'green', 'status': 'open', 'index': '.internal.alerts-default.alerts-default-000001', 'uuid': 'yKYRifk6S_e1WtNi8_1z3A', 'pri': '1', 'rep': '0', 'docs.count': '0', 'docs.deleted': '0', 'store.size': '249b', 'pri.store.size': '249b', 'dataset.size': '249b'}, {'health': 'green', 'status': 'open', 'index': '.internal.alerts-observability.apm.alerts-default-000001', 'uuid': 'e8W0ONrIS2-rtx-sEOAsYw', 'pri': '1', 'rep': '0', 'docs.count': '0', 'docs.deleted': '0', 'store.size': '249b', 'pri.store.size': '249b', 'dataset.size': '249b'}, {'health': 'green', 'status': 'open', 'index': '.internal.alerts-observability.metrics.alerts-default-000001', 'uuid': 'VcoKAtPpQZmsBIczTDFeTg', 'pri': '1', 'rep': '0', 'docs.count': '0', 'docs.deleted': '0', 'store.size': '249b', 'pri.store.size': '249b', 'dataset.size': '249b'}, {'health': 'green', 'status': 'open', 'index': '.kibana-observability-ai-assistant-conversations-000001', 'uuid': '78goFpseQMG8btNFlPPnhA', 'pri': '1', 'rep': '0', 'docs.count': '0', 'docs.deleted': '0', 'store.size': '249b', 'pri.store.size': '249b', 'dataset.size': '249b'}, {'health': 'green', 'status': 'open', 'index': '.internal.alerts-ml.anomaly-detection-health.alerts-default-000001', 'uuid': 'tBy4KectR7-EbdxNR8as0w', 'pri': '1', 'rep': '0', 'docs.count': '0', 'docs.deleted': '0', 'store.size': '249b', 'pri.store.size': '249b', 'dataset.size': '249b'}, {'health': 'green', 'status': 'open', 'index': '.internal.alerts-observability.threshold.alerts-default-000001', 'uuid': '8BEjSwPFQBq1MRFrutD95Q', 'pri': '1', 'rep': '0', 'docs.count': '0', 'docs.deleted': '0', 'store.size': '249b', 'pri.store.size': '249b', 'dataset.size': '249b'}, {'health': 'green', 'status': 'open', 'index': '.kibana-observability-ai-assistant-kb-000001', 'uuid': 'gmcQwlm7S0yfDzeYgqK7AQ', 'pri': '1', 'rep': '0', 'docs.count': '0', 'docs.deleted': '0', 'store.size': '249b', 'pri.store.size': '249b', 'dataset.size': '249b'}, {'health': 'green', 'status': 'open', 'index': '.internal.alerts-security.alerts-default-000001', 'uuid': '1m_Skpn_Q5eODoirIXXCmQ', 'pri': '1', 'rep': '0', 'docs.count': '0', 'docs.deleted': '0', 'store.size': '249b', 'pri.store.size': '249b', 'dataset.size': '249b'}, {'health': 'green', 'status': 'open', 'index': '.internal.alerts-stack.alerts-default-000001', 'uuid': 'fY9MZgM_RFqEkFhMbk8oWg', 'pri': '1', 'rep': '0', 'docs.count': '0', 'docs.deleted': '0', 'store.size': '249b', 'pri.store.size': '249b', 'dataset.size': '249b'}]\n"
     ]
    }
   ],
   "source": [
    "# Make a GET request to /_cat/indices?v\n",
    "response = es.cat.indices(format=\"json\")\n",
    "\n",
    "# Print the response\n",
    "print(response)"
   ]
  },
  {
   "cell_type": "markdown",
   "metadata": {},
   "source": [
    "```"
   ]
  }
 ],
 "metadata": {
  "kernelspec": {
   "display_name": "Python 3",
   "language": "python",
   "name": "python3"
  },
  "language_info": {
   "codemirror_mode": {
    "name": "ipython",
    "version": 3
   },
   "file_extension": ".py",
   "mimetype": "text/x-python",
   "name": "python",
   "nbconvert_exporter": "python",
   "pygments_lexer": "ipython3",
   "version": "3.9.19"
  }
 },
 "nbformat": 4,
 "nbformat_minor": 2
}
